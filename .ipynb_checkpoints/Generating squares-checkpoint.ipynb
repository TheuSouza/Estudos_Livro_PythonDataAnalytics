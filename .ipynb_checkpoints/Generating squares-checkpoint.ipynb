{
 "cells": [
  {
   "cell_type": "code",
   "execution_count": 2,
   "id": "db84e320-d3e1-442a-98b0-0219f5343f22",
   "metadata": {},
   "outputs": [],
   "source": [
    "from time import sleep\n",
    "def squares(n=10):\n",
    "    print(f'Generating squares de 1 até {n**2}')\n",
    "    for i in range(1, n + 1):\n",
    "        yield i**2\n",
    "\n",
    "gen = squares()"
   ]
  },
  {
   "cell_type": "code",
   "execution_count": 3,
   "id": "7de30a12-53b6-4a6f-a9ed-1f2c69a032da",
   "metadata": {},
   "outputs": [
    {
     "name": "stdout",
     "output_type": "stream",
     "text": [
      "Generating squares de 1 até 100\n",
      "1...4...9...16...25...36...49...64...81...100..."
     ]
    }
   ],
   "source": [
    "for n in gen:\n",
    "    print(n, end='...')\n",
    "    sleep(0.5)"
   ]
  },
  {
   "cell_type": "code",
   "execution_count": 5,
   "id": "ecdf8ea8-9c0b-45be-aed9-21f4f915e386",
   "metadata": {},
   "outputs": [
    {
     "name": "stdout",
     "output_type": "stream",
     "text": [
      "<generator object <genexpr> at 0x0000022066803D30>\n",
      "0...1...4...9...16...25...36...49...64...81...100..."
     ]
    }
   ],
   "source": [
    "gen2 = (x**2 for x in range(11))\n",
    "print(gen2)\n",
    "for i in gen2:\n",
    "    print(f'{i}', end='...')"
   ]
  },
  {
   "cell_type": "code",
   "execution_count": 9,
   "id": "5f3f6c72-d2ac-44fa-b28f-3bbf748d0cdf",
   "metadata": {},
   "outputs": [
    {
     "data": {
      "text/plain": [
       "{'Key 0º': 'Key² 0',\n",
       " 'Key 1º': 'Key² 1',\n",
       " 'Key 2º': 'Key² 4',\n",
       " 'Key 3º': 'Key² 9',\n",
       " 'Key 4º': 'Key² 16'}"
      ]
     },
     "execution_count": 9,
     "metadata": {},
     "output_type": "execute_result"
    }
   ],
   "source": [
    "dict((f'Key {i}º', f'Key² {i**2}') for i in range(5))"
   ]
  },
  {
   "cell_type": "code",
   "execution_count": 17,
   "id": "dd3a999b-3d75-4b62-8f2b-b25f55f7abaf",
   "metadata": {},
   "outputs": [
    {
     "data": {
      "text/plain": [
       "285"
      ]
     },
     "execution_count": 17,
     "metadata": {},
     "output_type": "execute_result"
    }
   ],
   "source": [
    "sum(x**2 for x in range(10))"
   ]
  },
  {
   "cell_type": "code",
   "execution_count": 22,
   "id": "70a31afe-c0f9-4663-b6a3-ec23b267a8b2",
   "metadata": {},
   "outputs": [
    {
     "name": "stdout",
     "output_type": "stream",
     "text": [
      "A ['Alan', 'Adam']\n",
      "W ['Wes', 'Will']\n",
      "A ['Albert']\n",
      "S ['Steven']\n"
     ]
    }
   ],
   "source": [
    "import itertools\n",
    "\n",
    "first_letter = lambda x: x[0]\n",
    "names = ['Alan', 'Adam', 'Wes', 'Will', 'Albert', 'Steven']\n",
    "\n",
    "for letter, names in itertools.groupby(names, first_letter):\n",
    "    print(letter, list(names))"
   ]
  },
  {
   "cell_type": "code",
   "execution_count": null,
   "id": "68366beb-cac1-4b0d-857d-e3930698063c",
   "metadata": {},
   "outputs": [],
   "source": []
  }
 ],
 "metadata": {
  "kernelspec": {
   "display_name": "Python 3 (ipykernel)",
   "language": "python",
   "name": "python3"
  },
  "language_info": {
   "codemirror_mode": {
    "name": "ipython",
    "version": 3
   },
   "file_extension": ".py",
   "mimetype": "text/x-python",
   "name": "python",
   "nbconvert_exporter": "python",
   "pygments_lexer": "ipython3",
   "version": "3.11.5"
  }
 },
 "nbformat": 4,
 "nbformat_minor": 5
}
