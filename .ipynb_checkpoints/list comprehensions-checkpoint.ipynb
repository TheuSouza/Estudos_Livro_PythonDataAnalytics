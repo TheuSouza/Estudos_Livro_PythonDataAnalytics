{
 "cells": [
  {
   "cell_type": "code",
   "execution_count": 134,
   "id": "72dfed96-e7e3-4258-8286-e1b7210f1e94",
   "metadata": {},
   "outputs": [],
   "source": [
    "strings = ['a', 'as', 'bat', 'car', 'dove', 'python']"
   ]
  },
  {
   "cell_type": "code",
   "execution_count": 135,
   "id": "597d20f2-11bc-42dd-a87c-de17cedf1d53",
   "metadata": {},
   "outputs": [
    {
     "name": "stdout",
     "output_type": "stream",
     "text": [
      "['BAT', 'CAR', 'DOVE', 'PYTHON']\n"
     ]
    }
   ],
   "source": [
    "strup = [x.upper() for x in strings if len(x) > 2]\n",
    "print(strup)"
   ]
  },
  {
   "cell_type": "code",
   "execution_count": 136,
   "id": "d62905f4-a2d8-4160-8e1c-058eb5cb7d21",
   "metadata": {},
   "outputs": [
    {
     "name": "stdout",
     "output_type": "stream",
     "text": [
      "{1, 2, 3, 4, 6}\n"
     ]
    }
   ],
   "source": [
    "unlen = {len(x) for x in strings}\n",
    "print(unlen)"
   ]
  },
  {
   "cell_type": "code",
   "execution_count": 137,
   "id": "15857666-936f-4261-a1a1-2b847b4907b1",
   "metadata": {},
   "outputs": [
    {
     "name": "stdout",
     "output_type": "stream",
     "text": [
      "{1, 2, 3, 4, 6}\n"
     ]
    }
   ],
   "source": [
    "unset = set(map(len, strings))\n",
    "print(unset)"
   ]
  },
  {
   "cell_type": "code",
   "execution_count": 140,
   "id": "8ce68933-d2da-43c1-a55e-a8d7c66e5c73",
   "metadata": {},
   "outputs": [
    {
     "name": "stdout",
     "output_type": "stream",
     "text": [
      "{0: 'a', 1: 'as', 2: 'bat', 3: 'car', 4: 'dove', 5: 'python'}\n"
     ]
    }
   ],
   "source": [
    "mapord = {i : val for i, val in enumerate(strings)}\n",
    "print(mapord)"
   ]
  },
  {
   "cell_type": "code",
   "execution_count": null,
   "id": "f6348f26-69b6-430f-8cfa-c97cdb441eb0",
   "metadata": {},
   "outputs": [],
   "source": []
  }
 ],
 "metadata": {
  "kernelspec": {
   "display_name": "Python 3 (ipykernel)",
   "language": "python",
   "name": "python3"
  },
  "language_info": {
   "codemirror_mode": {
    "name": "ipython",
    "version": 3
   },
   "file_extension": ".py",
   "mimetype": "text/x-python",
   "name": "python",
   "nbconvert_exporter": "python",
   "pygments_lexer": "ipython3",
   "version": "3.11.5"
  }
 },
 "nbformat": 4,
 "nbformat_minor": 5
}
