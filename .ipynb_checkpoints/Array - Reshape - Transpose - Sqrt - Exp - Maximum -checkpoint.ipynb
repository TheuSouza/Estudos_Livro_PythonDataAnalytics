{
 "cells": [
  {
   "cell_type": "code",
   "execution_count": 3,
   "id": "b082fdc0-1b02-4448-9a60-70d03705de16",
   "metadata": {},
   "outputs": [
    {
     "data": {
      "text/plain": [
       "array([[ 0.00000000e+000,  0.00000000e+000,  0.00000000e+000,\n",
       "        -8.63747822e-310],\n",
       "       [ 0.00000000e+000,  0.00000000e+000,  0.00000000e+000,\n",
       "         0.00000000e+000],\n",
       "       [ 0.00000000e+000, -8.69180131e-310,  0.00000000e+000,\n",
       "         0.00000000e+000],\n",
       "       [ 0.00000000e+000,  0.00000000e+000,  0.00000000e+000,\n",
       "        -8.74612439e-310],\n",
       "       [ 0.00000000e+000,  0.00000000e+000,  0.00000000e+000,\n",
       "         0.00000000e+000],\n",
       "       [ 0.00000000e+000, -8.80044747e-310,  0.00000000e+000,\n",
       "         0.00000000e+000],\n",
       "       [ 0.00000000e+000,  0.00000000e+000,  0.00000000e+000,\n",
       "        -8.85477055e-310],\n",
       "       [ 0.00000000e+000,  0.00000000e+000,  0.00000000e+000,\n",
       "         0.00000000e+000]])"
      ]
     },
     "execution_count": 3,
     "metadata": {},
     "output_type": "execute_result"
    }
   ],
   "source": [
    "import numpy as np\n",
    "arr = np.empty((8, 4))\n",
    "arr"
   ]
  },
  {
   "cell_type": "code",
   "execution_count": 10,
   "id": "9d8e28fc-34c5-4e42-8333-7686ffabab1c",
   "metadata": {},
   "outputs": [],
   "source": [
    "for i in range(8):\n",
    "    arr[i] = i"
   ]
  },
  {
   "cell_type": "code",
   "execution_count": 11,
   "id": "4cc5147c-bec4-41a3-86de-5ac558094ba0",
   "metadata": {},
   "outputs": [
    {
     "data": {
      "text/plain": [
       "array([[0., 0., 0., 0.],\n",
       "       [1., 1., 1., 1.],\n",
       "       [2., 2., 2., 2.],\n",
       "       [3., 3., 3., 3.],\n",
       "       [4., 4., 4., 4.],\n",
       "       [5., 5., 5., 5.],\n",
       "       [6., 6., 6., 6.],\n",
       "       [7., 7., 7., 7.]])"
      ]
     },
     "execution_count": 11,
     "metadata": {},
     "output_type": "execute_result"
    }
   ],
   "source": [
    "arr"
   ]
  },
  {
   "cell_type": "code",
   "execution_count": 16,
   "id": "a73ab93a-f562-43ea-a8a9-49a54d161a90",
   "metadata": {},
   "outputs": [
    {
     "data": {
      "text/plain": [
       "array([[ 0,  1,  2,  3],\n",
       "       [ 4,  5,  6,  7],\n",
       "       [ 8,  9, 10, 11],\n",
       "       [12, 13, 14, 15],\n",
       "       [16, 17, 18, 19],\n",
       "       [20, 21, 22, 23],\n",
       "       [24, 25, 26, 27],\n",
       "       [28, 29, 30, 31]])"
      ]
     },
     "execution_count": 16,
     "metadata": {},
     "output_type": "execute_result"
    }
   ],
   "source": [
    "aii = np.arange(32).reshape((8, 4))\n",
    "aii"
   ]
  },
  {
   "cell_type": "code",
   "execution_count": 18,
   "id": "42f09a4c-caf5-40d0-ae36-3b4ba6dc235c",
   "metadata": {},
   "outputs": [
    {
     "data": {
      "text/plain": [
       "array([[ 0,  1,  2,  3,  4],\n",
       "       [ 5,  6,  7,  8,  9],\n",
       "       [10, 11, 12, 13, 14]])"
      ]
     },
     "execution_count": 18,
     "metadata": {},
     "output_type": "execute_result"
    }
   ],
   "source": [
    "ann = np.arange(15).reshape(3, 5)\n",
    "ann"
   ]
  },
  {
   "cell_type": "code",
   "execution_count": 20,
   "id": "9393dadc-0be3-4936-b25f-a9d08ddcb09d",
   "metadata": {},
   "outputs": [
    {
     "data": {
      "text/plain": [
       "array([[ 0,  5, 10],\n",
       "       [ 1,  6, 11],\n",
       "       [ 2,  7, 12],\n",
       "       [ 3,  8, 13],\n",
       "       [ 4,  9, 14]])"
      ]
     },
     "execution_count": 20,
     "metadata": {},
     "output_type": "execute_result"
    }
   ],
   "source": [
    "ann.T #Transposição de um Array usando o atributo \".T\""
   ]
  },
  {
   "cell_type": "code",
   "execution_count": 22,
   "id": "2182b23c-70b1-4275-8e1a-478aa691042b",
   "metadata": {},
   "outputs": [
    {
     "data": {
      "text/plain": [
       "array([[[ 0,  1,  2,  3],\n",
       "        [ 4,  5,  6,  7]],\n",
       "\n",
       "       [[ 8,  9, 10, 11],\n",
       "        [12, 13, 14, 15]]])"
      ]
     },
     "execution_count": 22,
     "metadata": {},
     "output_type": "execute_result"
    }
   ],
   "source": [
    "abb = np.arange(16).reshape((2, 2, 4))\n",
    "abb"
   ]
  },
  {
   "cell_type": "code",
   "execution_count": 28,
   "id": "6d5a106f-839a-4e80-a2d4-69e3c985a384",
   "metadata": {},
   "outputs": [
    {
     "data": {
      "text/plain": [
       "array([[[ 0,  1,  2,  3],\n",
       "        [ 8,  9, 10, 11]],\n",
       "\n",
       "       [[ 4,  5,  6,  7],\n",
       "        [12, 13, 14, 15]]])"
      ]
     },
     "execution_count": 28,
     "metadata": {},
     "output_type": "execute_result"
    }
   ],
   "source": [
    "abb.transpose((1, 0, 2))"
   ]
  },
  {
   "cell_type": "code",
   "execution_count": 31,
   "id": "49413f54-d44e-4539-acfd-e52fbd138f17",
   "metadata": {},
   "outputs": [
    {
     "data": {
      "text/plain": [
       "array([[[ 0,  4],\n",
       "        [ 1,  5],\n",
       "        [ 2,  6],\n",
       "        [ 3,  7]],\n",
       "\n",
       "       [[ 8, 12],\n",
       "        [ 9, 13],\n",
       "        [10, 14],\n",
       "        [11, 15]]])"
      ]
     },
     "execution_count": 31,
     "metadata": {},
     "output_type": "execute_result"
    }
   ],
   "source": [
    "abb.swapaxes(1, 2)"
   ]
  },
  {
   "cell_type": "code",
   "execution_count": 33,
   "id": "ad9e414a-69ea-411a-880f-c553d4be3682",
   "metadata": {},
   "outputs": [
    {
     "data": {
      "text/plain": [
       "array([[[ 0,  8],\n",
       "        [ 4, 12]],\n",
       "\n",
       "       [[ 1,  9],\n",
       "        [ 5, 13]],\n",
       "\n",
       "       [[ 2, 10],\n",
       "        [ 6, 14]],\n",
       "\n",
       "       [[ 3, 11],\n",
       "        [ 7, 15]]])"
      ]
     },
     "execution_count": 33,
     "metadata": {},
     "output_type": "execute_result"
    }
   ],
   "source": [
    "abb.T"
   ]
  },
  {
   "cell_type": "code",
   "execution_count": 37,
   "id": "3fc05fd7-c30b-437e-bab0-fa406202a72f",
   "metadata": {},
   "outputs": [
    {
     "data": {
      "text/plain": [
       "array([0, 1, 2, 3, 4, 5, 6, 7, 8, 9])"
      ]
     },
     "execution_count": 37,
     "metadata": {},
     "output_type": "execute_result"
    }
   ],
   "source": [
    "amm = np.arange(10)\n",
    "amm"
   ]
  },
  {
   "cell_type": "code",
   "execution_count": 38,
   "id": "03c902bd-d1dd-44b5-9102-303d1c5b7f84",
   "metadata": {},
   "outputs": [
    {
     "data": {
      "text/plain": [
       "array([0.        , 1.        , 1.41421356, 1.73205081, 2.        ,\n",
       "       2.23606798, 2.44948974, 2.64575131, 2.82842712, 3.        ])"
      ]
     },
     "execution_count": 38,
     "metadata": {},
     "output_type": "execute_result"
    }
   ],
   "source": [
    "np.sqrt(amm)"
   ]
  },
  {
   "cell_type": "code",
   "execution_count": 44,
   "id": "acc28731-48cb-4771-b0f7-ddc1f26780e7",
   "metadata": {},
   "outputs": [
    {
     "data": {
      "text/plain": [
       "array([1.00000000e+00, 2.71828183e+00, 7.38905610e+00, 2.00855369e+01,\n",
       "       5.45981500e+01, 1.48413159e+02, 4.03428793e+02, 1.09663316e+03,\n",
       "       2.98095799e+03, 8.10308393e+03])"
      ]
     },
     "execution_count": 44,
     "metadata": {},
     "output_type": "execute_result"
    }
   ],
   "source": [
    "np.exp(amm)"
   ]
  },
  {
   "cell_type": "code",
   "execution_count": 48,
   "id": "4a001f03-e835-4d80-bbd6-8cff7bb2507d",
   "metadata": {},
   "outputs": [],
   "source": [
    "crossX = np.random.randn(8)\n",
    "crossY = np.random.randn(8)"
   ]
  },
  {
   "cell_type": "code",
   "execution_count": 49,
   "id": "d4c8ec11-be8d-4a3a-b650-54906e70fe6b",
   "metadata": {},
   "outputs": [
    {
     "data": {
      "text/plain": [
       "array([-1.7383231 , -1.12819394, -0.86512835, -1.98483767, -1.09443074,\n",
       "       -1.95808219, -0.83285597, -1.29768831])"
      ]
     },
     "execution_count": 49,
     "metadata": {},
     "output_type": "execute_result"
    }
   ],
   "source": [
    "crossX"
   ]
  },
  {
   "cell_type": "code",
   "execution_count": 50,
   "id": "77d61a80-9a61-461c-aa9b-eb70a3a82b37",
   "metadata": {},
   "outputs": [
    {
     "data": {
      "text/plain": [
       "array([-1.18301815, -0.30750574,  0.1719068 ,  0.92270564,  0.38709861,\n",
       "       -2.12991445, -0.05503573,  0.39939554])"
      ]
     },
     "execution_count": 50,
     "metadata": {},
     "output_type": "execute_result"
    }
   ],
   "source": [
    "crossY"
   ]
  },
  {
   "cell_type": "code",
   "execution_count": 51,
   "id": "33e12a49-9823-4e78-8c1d-d3b4b2759f59",
   "metadata": {},
   "outputs": [
    {
     "data": {
      "text/plain": [
       "array([-1.18301815, -0.30750574,  0.1719068 ,  0.92270564,  0.38709861,\n",
       "       -1.95808219, -0.05503573,  0.39939554])"
      ]
     },
     "execution_count": 51,
     "metadata": {},
     "output_type": "execute_result"
    }
   ],
   "source": [
    "np.maximum(crossX, crossY)"
   ]
  },
  {
   "cell_type": "code",
   "execution_count": 53,
   "id": "fcfcdb74-6f15-4212-a6d7-e7c0a7528882",
   "metadata": {},
   "outputs": [],
   "source": [
    "agg = np.random.randn(7) * 5\n",
    "fracao, inteiro = np.modf(agg)"
   ]
  },
  {
   "cell_type": "code",
   "execution_count": 55,
   "id": "e973dd1b-2b89-4a5c-ac49-e4e327d94f7f",
   "metadata": {},
   "outputs": [
    {
     "data": {
      "text/plain": [
       "array([ 4.84531054, -4.27366233,  4.80664004,  9.35834366,  4.15547673,\n",
       "       -3.97926809, -2.19175036])"
      ]
     },
     "execution_count": 55,
     "metadata": {},
     "output_type": "execute_result"
    }
   ],
   "source": [
    "agg"
   ]
  },
  {
   "cell_type": "code",
   "execution_count": 56,
   "id": "bbf8cce3-3432-4072-ab96-db93ca6cfc3a",
   "metadata": {},
   "outputs": [
    {
     "data": {
      "text/plain": [
       "array([ 0.84531054, -0.27366233,  0.80664004,  0.35834366,  0.15547673,\n",
       "       -0.97926809, -0.19175036])"
      ]
     },
     "execution_count": 56,
     "metadata": {},
     "output_type": "execute_result"
    }
   ],
   "source": [
    "fracao"
   ]
  },
  {
   "cell_type": "code",
   "execution_count": 57,
   "id": "c26192cb-41c0-40b4-9b1a-6225cf244409",
   "metadata": {},
   "outputs": [
    {
     "data": {
      "text/plain": [
       "array([ 4., -4.,  4.,  9.,  4., -3., -2.])"
      ]
     },
     "execution_count": 57,
     "metadata": {},
     "output_type": "execute_result"
    }
   ],
   "source": [
    "inteiro"
   ]
  },
  {
   "cell_type": "code",
   "execution_count": null,
   "id": "756580d0-9261-46f8-9071-c93e4ad6b52d",
   "metadata": {},
   "outputs": [],
   "source": []
  }
 ],
 "metadata": {
  "kernelspec": {
   "display_name": "Python 3 (ipykernel)",
   "language": "python",
   "name": "python3"
  },
  "language_info": {
   "codemirror_mode": {
    "name": "ipython",
    "version": 3
   },
   "file_extension": ".py",
   "mimetype": "text/x-python",
   "name": "python",
   "nbconvert_exporter": "python",
   "pygments_lexer": "ipython3",
   "version": "3.11.5"
  }
 },
 "nbformat": 4,
 "nbformat_minor": 5
}
