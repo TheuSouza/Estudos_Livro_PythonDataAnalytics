{
 "cells": [
  {
   "cell_type": "code",
   "execution_count": null,
   "id": "e230532c-38bd-41bf-a126-2a80a6af45b9",
   "metadata": {},
   "outputs": [],
   "source": [
    "cidade = [Tóquio,Yokohama,Osaka,Nagoya,Sapporo,Kobe,Kyoto,Fukuoka,Kawasaki,Saitama,Hiroshima,Sendai,              \n",
    "          Kitakyushu,Chiba,Hamamatsu,Sakai,Niigata,Shizuoka,Okayama,Kumamoto,Sagamihara,Kagoshima,Hachioji,\n",
    "          Funabashi,Matsuyama,Higashiosaka,Kawaguchi,Nishinomiya,Himeji,Kurashiki,Ichikawa,Matsudo,Oita,\n",
    "          Utsunomiya,Amagasaki,Kanazawa,Toyama,Toyota,Nagasaki,Machida,Fukuyama,Yokosuka,Fujisawa,Hirakata,Gifu]"
   ]
  }
 ],
 "metadata": {
  "kernelspec": {
   "display_name": "Python 3 (ipykernel)",
   "language": "python",
   "name": "python3"
  },
  "language_info": {
   "codemirror_mode": {
    "name": "ipython",
    "version": 3
   },
   "file_extension": ".py",
   "mimetype": "text/x-python",
   "name": "python",
   "nbconvert_exporter": "python",
   "pygments_lexer": "ipython3",
   "version": "3.11.5"
  }
 },
 "nbformat": 4,
 "nbformat_minor": 5
}
