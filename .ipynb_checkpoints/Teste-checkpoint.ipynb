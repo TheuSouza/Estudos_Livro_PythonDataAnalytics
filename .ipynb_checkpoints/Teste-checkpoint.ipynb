{
 "cells": [
  {
   "cell_type": "code",
   "execution_count": null,
   "id": "fa8ef912-9fa6-4f34-8113-9acf8bd33b94",
   "metadata": {},
   "outputs": [],
   "source": [
    "%matplotlib inline"
   ]
  },
  {
   "cell_type": "code",
   "execution_count": 2,
   "id": "37bedcf5-45b0-4929-9d2b-7d374d42cede",
   "metadata": {},
   "outputs": [
    {
     "data": {
      "text/plain": [
       "[<matplotlib.lines.Line2D at 0x2e055a783d0>]"
      ]
     },
     "execution_count": 2,
     "metadata": {},
     "output_type": "execute_result"
    },
    {
     "data": {
      "image/png": "[encoded data removed]",
      "text/plain": [
       "<Figure size 640x480 with 1 Axes>"
      ]
     },
     "metadata": {},
     "output_type": "display_data"
    }
   ],
   "source": [
    "import numpy as np\n",
    "import matplotlib.pyplot as plt\n",
    "plt.plot(np.random.randn(50).cumsum())"
   ]
  },
  {
   "cell_type": "code",
   "execution_count": 4,
   "id": "ac728e68-bf48-4015-af71-5576b8d03801",
   "metadata": {},
   "outputs": [
    {
     "data": {
      "text/plain": [
       "array([ 0,  1,  2,  3,  4,  5,  6,  7,  8,  9, 10, 11, 12, 13, 14, 15, 16,\n",
       "       17, 18, 19])"
      ]
     },
     "execution_count": 4,
     "metadata": {},
     "output_type": "execute_result"
    }
   ],
   "source": [
    "arr = np.arange(20)\n",
    "arr"
   ]
  },
  {
   "cell_type": "code",
   "execution_count": 5,
   "id": "acf57865-574d-4017-8596-5406ba99b2da",
   "metadata": {},
   "outputs": [],
   "source": [
    "aar = arr.copy()"
   ]
  },
  {
   "cell_type": "code",
   "execution_count": 7,
   "id": "e82a5142-f178-4786-9066-0fc0322bb523",
   "metadata": {},
   "outputs": [],
   "source": [
    "aar[1:6] = 66"
   ]
  },
  {
   "cell_type": "code",
   "execution_count": 8,
   "id": "19350c0b-e46a-4d56-bd90-46617ea18a30",
   "metadata": {},
   "outputs": [
    {
     "data": {
      "text/plain": [
       "array([ 0, 66, 66, 66, 66, 66,  6,  7,  8,  9, 10, 11, 12, 13, 14, 15, 16,\n",
       "       17, 18, 19])"
      ]
     },
     "execution_count": 8,
     "metadata": {},
     "output_type": "execute_result"
    }
   ],
   "source": [
    "aar"
   ]
  },
  {
   "cell_type": "code",
   "execution_count": 15,
   "id": "9145ce9e-2d40-4b5e-81aa-e7354c74468d",
   "metadata": {},
   "outputs": [
    {
     "data": {
      "text/plain": [
       "array([ 0,  1,  2,  3,  4,  5,  6,  7,  8,  9, 10, 11, 12, 13, 14, 15, 16,\n",
       "       17, 18, 19])"
      ]
     },
     "execution_count": 15,
     "metadata": {},
     "output_type": "execute_result"
    }
   ],
   "source": [
    "arr"
   ]
  },
  {
   "cell_type": "code",
   "execution_count": 10,
   "id": "6f539c65-312a-467a-b350-d7546829e507",
   "metadata": {},
   "outputs": [],
   "source": [
    "abc = arr[2:11].copy()"
   ]
  },
  {
   "cell_type": "code",
   "execution_count": 12,
   "id": "e39051aa-c70d-4c6f-a433-bceeb0128028",
   "metadata": {},
   "outputs": [],
   "source": [
    "abc[1] = 11"
   ]
  },
  {
   "cell_type": "code",
   "execution_count": 14,
   "id": "c8f898b0-129b-4659-974a-30dd3302e8a8",
   "metadata": {},
   "outputs": [
    {
     "data": {
      "text/plain": [
       "array([ 2, 11,  4,  5,  6,  7,  8,  9, 10])"
      ]
     },
     "execution_count": 14,
     "metadata": {},
     "output_type": "execute_result"
    }
   ],
   "source": [
    "abc"
   ]
  },
  {
   "cell_type": "code",
   "execution_count": 17,
   "id": "564c0aef-674d-4455-93da-cd02f0032a77",
   "metadata": {},
   "outputs": [
    {
     "data": {
      "text/plain": [
       "array([[[ 1,  2,  3],\n",
       "        [ 4,  5,  6]],\n",
       "\n",
       "       [[ 7,  8,  9],\n",
       "        [10, 11, 12]]])"
      ]
     },
     "execution_count": 17,
     "metadata": {},
     "output_type": "execute_result"
    }
   ],
   "source": [
    "arr33 = np.array([[[1, 2, 3],[4, 5, 6]],[[7, 8, 9],[10, 11, 12]]])\n",
    "arr33"
   ]
  },
  {
   "cell_type": "code",
   "execution_count": 20,
   "id": "6669d718-f7b0-4611-98c4-3d79964e5fde",
   "metadata": {},
   "outputs": [],
   "source": [
    "arr33[0][1, 2] = 7"
   ]
  },
  {
   "cell_type": "code",
   "execution_count": 21,
   "id": "42222a94-d0e6-4116-9b1b-221b17eb3c4b",
   "metadata": {},
   "outputs": [
    {
     "data": {
      "text/plain": [
       "array([[[ 1,  2,  3],\n",
       "        [ 4,  5,  7]],\n",
       "\n",
       "       [[ 7,  8,  9],\n",
       "        [10, 11, 12]]])"
      ]
     },
     "execution_count": 21,
     "metadata": {},
     "output_type": "execute_result"
    }
   ],
   "source": [
    "arr33"
   ]
  },
  {
   "cell_type": "code",
   "execution_count": 23,
   "id": "de56853b-abe5-48bb-a073-7904e64a9078",
   "metadata": {},
   "outputs": [],
   "source": [
    "arr33[0, 0] = arr33[1, 1]"
   ]
  },
  {
   "cell_type": "code",
   "execution_count": 30,
   "id": "87396584-01d4-47d1-9445-fbb1a95fc14a",
   "metadata": {},
   "outputs": [],
   "source": [
    "arr33b = arr33.copy()"
   ]
  },
  {
   "cell_type": "code",
   "execution_count": 31,
   "id": "2d75ce43-de52-4060-b380-ac48b65e2a72",
   "metadata": {},
   "outputs": [
    {
     "data": {
      "text/plain": [
       "array([[11, 12],\n",
       "       [ 5,  7]])"
      ]
     },
     "execution_count": 31,
     "metadata": {},
     "output_type": "execute_result"
    }
   ],
   "source": [
    "arr33b[0][:2, 1:]"
   ]
  },
  {
   "cell_type": "code",
   "execution_count": null,
   "id": "55125c8d-9fe7-4032-865d-90e5e11ea544",
   "metadata": {},
   "outputs": [],
   "source": []
  }
 ],
 "metadata": {
  "kernelspec": {
   "display_name": "Python 3 (ipykernel)",
   "language": "python",
   "name": "python3"
  },
  "language_info": {
   "codemirror_mode": {
    "name": "ipython",
    "version": 3
   },
   "file_extension": ".py",
   "mimetype": "text/x-python",
   "name": "python",
   "nbconvert_exporter": "python",
   "pygments_lexer": "ipython3",
   "version": "3.11.5"
  }
 },
 "nbformat": 4,
 "nbformat_minor": 5
}
