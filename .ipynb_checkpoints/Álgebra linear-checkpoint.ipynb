{
 "cells": [
  {
   "cell_type": "code",
   "execution_count": 1,
   "id": "962071f8-e00d-470d-a1be-07fe3ab4c81f",
   "metadata": {},
   "outputs": [],
   "source": [
    "import numpy as np"
   ]
  },
  {
   "cell_type": "code",
   "execution_count": 2,
   "id": "c2917096-cfe4-41e2-a1bc-5fb1c9b67e54",
   "metadata": {},
   "outputs": [],
   "source": [
    "x = np.array([[1., 2., 3.], [4., 5., 6.]])\n",
    "y = np.array([[6., 23.], [-1, 7], [8, 9]])"
   ]
  },
  {
   "cell_type": "code",
   "execution_count": 3,
   "id": "322a6453-b08c-48b6-b5d4-dac4bfc25719",
   "metadata": {},
   "outputs": [
    {
     "data": {
      "text/plain": [
       "array([[1., 2., 3.],\n",
       "       [4., 5., 6.]])"
      ]
     },
     "execution_count": 3,
     "metadata": {},
     "output_type": "execute_result"
    }
   ],
   "source": [
    "x"
   ]
  },
  {
   "cell_type": "code",
   "execution_count": 4,
   "id": "3219c8c0-b67e-401a-a7d7-84f1d38f19f2",
   "metadata": {},
   "outputs": [
    {
     "data": {
      "text/plain": [
       "array([[ 6., 23.],\n",
       "       [-1.,  7.],\n",
       "       [ 8.,  9.]])"
      ]
     },
     "execution_count": 4,
     "metadata": {},
     "output_type": "execute_result"
    }
   ],
   "source": [
    "y"
   ]
  },
  {
   "cell_type": "code",
   "execution_count": 6,
   "id": "cd4f3246-190d-40fb-b4d4-0d6e972865b9",
   "metadata": {},
   "outputs": [
    {
     "data": {
      "text/plain": [
       "array([[ 28.,  64.],\n",
       "       [ 67., 181.]])"
      ]
     },
     "execution_count": 6,
     "metadata": {},
     "output_type": "execute_result"
    }
   ],
   "source": [
    "x.dot(y)"
   ]
  },
  {
   "cell_type": "code",
   "execution_count": 7,
   "id": "67223283-cb91-46df-9f46-659fe85f0c12",
   "metadata": {},
   "outputs": [
    {
     "data": {
      "text/plain": [
       "array([[ 28.,  64.],\n",
       "       [ 67., 181.]])"
      ]
     },
     "execution_count": 7,
     "metadata": {},
     "output_type": "execute_result"
    }
   ],
   "source": [
    "np.dot(x, y)"
   ]
  },
  {
   "cell_type": "code",
   "execution_count": 8,
   "id": "a2e2ee6f-5dd6-4ea8-953f-b352a2f4df81",
   "metadata": {},
   "outputs": [],
   "source": [
    "from numpy.linalg import inv, qr"
   ]
  },
  {
   "cell_type": "code",
   "execution_count": 12,
   "id": "cf8b652c-56c7-4011-a478-beab8aaae5ee",
   "metadata": {},
   "outputs": [
    {
     "data": {
      "text/plain": [
       "array([[ 1.15753016,  1.96085892,  0.622444  , -0.29445143,  2.29899783],\n",
       "       [ 0.33962426, -1.38131133,  0.32496324,  0.5161067 , -0.02896393],\n",
       "       [-1.57083131, -0.71920465, -1.67470599,  0.13690851, -0.04851249],\n",
       "       [-0.25313077,  0.15590167, -1.72447336,  0.69472212, -0.0524706 ],\n",
       "       [-0.92852826, -1.39214097,  0.98715711, -0.06812532, -1.15299729]])"
      ]
     },
     "execution_count": 12,
     "metadata": {},
     "output_type": "execute_result"
    }
   ],
   "source": [
    "aa = np.random.randn(5, 5)\n",
    "aa"
   ]
  },
  {
   "cell_type": "code",
   "execution_count": 14,
   "id": "d29e82e0-a1e5-4c2c-8de2-0b4deefd43f6",
   "metadata": {},
   "outputs": [
    {
     "data": {
      "text/plain": [
       "array([[ 2.21178357, -1.48555033, -1.60714374, -3.71588773, -0.14458992],\n",
       "       [-1.48555033,  1.5664702 ,  1.22425135,  3.17328166, -0.37649427],\n",
       "       [-1.60714374,  1.22425135,  1.42631733,  3.28153871,  0.00977767],\n",
       "       [-3.71588773,  3.17328166,  3.28153871,  9.06394751, -0.14972714],\n",
       "       [-0.14458992, -0.37649427,  0.00977767, -0.14972714,  0.57018355]])"
      ]
     },
     "execution_count": 14,
     "metadata": {},
     "output_type": "execute_result"
    }
   ],
   "source": [
    "#A expressão X.T.dot(X) calcula o produto escalar de X com sua transposta X.T.\n",
    "mat = aa.T.dot(aa)\n",
    "inv(mat)"
   ]
  },
  {
   "cell_type": "code",
   "execution_count": 15,
   "id": "86367fe7-9d1e-4783-97ad-9d7d10ad2536",
   "metadata": {},
   "outputs": [
    {
     "data": {
      "text/plain": [
       "array([[ 1.00000000e+00, -4.44089210e-16,  2.49800181e-16,\n",
       "         3.33066907e-16,  0.00000000e+00],\n",
       "       [-8.88178420e-16,  1.00000000e+00,  1.17961196e-15,\n",
       "         2.44249065e-15, -4.44089210e-16],\n",
       "       [ 2.22044605e-15, -1.24900090e-15,  1.00000000e+00,\n",
       "        -1.34614542e-15, -2.22044605e-16],\n",
       "       [-2.77555756e-17, -2.49800181e-16, -3.20923843e-17,\n",
       "         1.00000000e+00,  5.55111512e-17],\n",
       "       [ 5.55111512e-16,  1.33226763e-15,  5.82867088e-16,\n",
       "         4.66293670e-15,  1.00000000e+00]])"
      ]
     },
     "execution_count": 15,
     "metadata": {},
     "output_type": "execute_result"
    }
   ],
   "source": [
    "mat.dot(inv(mat))"
   ]
  },
  {
   "cell_type": "code",
   "execution_count": 18,
   "id": "0d122bc2-4c14-427f-ac8c-6aa32a6af0af",
   "metadata": {},
   "outputs": [
    {
     "data": {
      "text/plain": [
       "array([[-8.04200053, -9.93023912, -4.96557075,  1.83780535, -8.85975413],\n",
       "       [ 0.        , -5.13571035,  5.27267083, -0.16507887, -4.0281075 ],\n",
       "       [ 0.        ,  0.        , -3.3961237 ,  1.29781755,  0.5980589 ],\n",
       "       [ 0.        ,  0.        ,  0.        , -0.09602792, -0.38914354],\n",
       "       [ 0.        ,  0.        ,  0.        ,  0.        ,  1.39989959]])"
      ]
     },
     "execution_count": 18,
     "metadata": {},
     "output_type": "execute_result"
    }
   ],
   "source": [
    "q, r = qr(mat)\n",
    "r"
   ]
  },
  {
   "cell_type": "code",
   "execution_count": 19,
   "id": "911c35c5-cdd8-497e-a088-06a058ff3501",
   "metadata": {},
   "outputs": [
    {
     "data": {
      "text/plain": [
       "array([[-0.6029559 ,  0.35125459,  0.54904133,  0.41309521, -0.20241137],\n",
       "       [-0.52021315, -0.59714522, -0.26453413, -0.15821333, -0.52705417],\n",
       "       [-0.37073583,  0.65200323, -0.57926392, -0.31892426,  0.01368776],\n",
       "       [ 0.0613297 ,  0.11226879,  0.52929312, -0.8121267 , -0.20960297],\n",
       "       [-0.47393679, -0.28692387,  0.11347864, -0.20750526,  0.79819971]])"
      ]
     },
     "execution_count": 19,
     "metadata": {},
     "output_type": "execute_result"
    }
   ],
   "source": [
    "q"
   ]
  },
  {
   "cell_type": "code",
   "execution_count": null,
   "id": "a9813b89-9c1e-4391-8dee-e7a877ed1a13",
   "metadata": {},
   "outputs": [],
   "source": []
  }
 ],
 "metadata": {
  "kernelspec": {
   "display_name": "Python 3 (ipykernel)",
   "language": "python",
   "name": "python3"
  },
  "language_info": {
   "codemirror_mode": {
    "name": "ipython",
    "version": 3
   },
   "file_extension": ".py",
   "mimetype": "text/x-python",
   "name": "python",
   "nbconvert_exporter": "python",
   "pygments_lexer": "ipython3",
   "version": "3.11.5"
  }
 },
 "nbformat": 4,
 "nbformat_minor": 5
}
