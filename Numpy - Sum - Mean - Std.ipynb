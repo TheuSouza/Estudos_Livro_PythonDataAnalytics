{
 "cells": [
  {
   "cell_type": "code",
   "execution_count": 1,
   "id": "10d4d21c-96d0-4867-a93d-99f00683a3d0",
   "metadata": {},
   "outputs": [],
   "source": [
    "import numpy as np"
   ]
  },
  {
   "cell_type": "code",
   "execution_count": 3,
   "id": "f05098ae-e153-4bfb-8560-929965e8cfad",
   "metadata": {},
   "outputs": [
    {
     "data": {
      "text/plain": [
       "array([[-1.21929664, -1.15404976,  0.77272609,  1.30524779],\n",
       "       [ 1.24577557, -0.72079039,  0.38509177, -1.24689046],\n",
       "       [-0.31198982, -0.01995224,  1.60203447,  1.19926532],\n",
       "       [-1.06347871,  0.19621831,  0.46791083, -0.89375402],\n",
       "       [-0.28685918, -0.33758052, -1.05843155,  0.96923767]])"
      ]
     },
     "execution_count": 3,
     "metadata": {},
     "output_type": "execute_result"
    }
   ],
   "source": [
    "arr = np.random.randn(5, 4)\n",
    "arr"
   ]
  },
  {
   "cell_type": "code",
   "execution_count": 4,
   "id": "64613e4d-e281-4f9c-a4fb-ac24f36706c7",
   "metadata": {},
   "outputs": [
    {
     "data": {
      "text/plain": [
       "-0.008478274063082858"
      ]
     },
     "execution_count": 4,
     "metadata": {},
     "output_type": "execute_result"
    }
   ],
   "source": [
    "arr.mean()"
   ]
  },
  {
   "cell_type": "code",
   "execution_count": 5,
   "id": "2a4b903d-0f7e-4ab3-ace3-33b151fc4b48",
   "metadata": {},
   "outputs": [
    {
     "data": {
      "text/plain": [
       "-0.008478274063082858"
      ]
     },
     "execution_count": 5,
     "metadata": {},
     "output_type": "execute_result"
    }
   ],
   "source": [
    "np.mean(arr)"
   ]
  },
  {
   "cell_type": "code",
   "execution_count": 6,
   "id": "efc3133a-2432-46d2-b05f-d39cf826f1a1",
   "metadata": {},
   "outputs": [
    {
     "data": {
      "text/plain": [
       "-0.16956548126165716"
      ]
     },
     "execution_count": 6,
     "metadata": {},
     "output_type": "execute_result"
    }
   ],
   "source": [
    "arr.sum()"
   ]
  },
  {
   "cell_type": "code",
   "execution_count": null,
   "id": "11393947-ba3d-4d1d-b97a-bcabb278c9fd",
   "metadata": {},
   "outputs": [],
   "source": [
    "#media de cada coluna usando e eixo 1"
   ]
  },
  {
   "cell_type": "code",
   "execution_count": 8,
   "id": "f61c7b5a-75a4-4546-9104-fab82d7214dd",
   "metadata": {},
   "outputs": [
    {
     "data": {
      "text/plain": [
       "array([-0.32716976, -0.40723092,  0.43386632,  0.26662126])"
      ]
     },
     "execution_count": 8,
     "metadata": {},
     "output_type": "execute_result"
    }
   ],
   "source": [
    "#media de cada coluna usando e eixo 0 (colunas)\n",
    "arr.mean(axis = 0)"
   ]
  },
  {
   "cell_type": "code",
   "execution_count": 9,
   "id": "eb238848-58ff-4a3b-9fe6-8d245b27b602",
   "metadata": {},
   "outputs": [
    {
     "data": {
      "text/plain": [
       "array([-0.07384313, -0.08420338,  0.61733943, -0.3232759 , -0.1784084 ])"
      ]
     },
     "execution_count": 9,
     "metadata": {},
     "output_type": "execute_result"
    }
   ],
   "source": [
    "#media de cada coluna usando e eixo 1 (linhas)\n",
    "arr.mean(axis = 1)"
   ]
  },
  {
   "cell_type": "code",
   "execution_count": 10,
   "id": "60c71f67-940b-4425-81a5-1f6c603ce8dd",
   "metadata": {},
   "outputs": [
    {
     "data": {
      "text/plain": [
       "array([-0.29537252, -0.33681351,  2.46935773, -1.29310359, -0.71363358])"
      ]
     },
     "execution_count": 10,
     "metadata": {},
     "output_type": "execute_result"
    }
   ],
   "source": [
    "arr.sum(axis = 1)"
   ]
  },
  {
   "cell_type": "code",
   "execution_count": 11,
   "id": "d8a8c534-65ac-47b2-bb89-13a35c2f7379",
   "metadata": {},
   "outputs": [
    {
     "data": {
      "text/plain": [
       "array([-1.63584879, -2.0361546 ,  2.16933161,  1.3331063 ])"
      ]
     },
     "execution_count": 11,
     "metadata": {},
     "output_type": "execute_result"
    }
   ],
   "source": [
    "arr.sum(axis = 0)"
   ]
  },
  {
   "cell_type": "code",
   "execution_count": 27,
   "id": "1d168fd2-ec25-45c9-8935-35bb4fe7af60",
   "metadata": {},
   "outputs": [
    {
     "data": {
      "text/plain": [
       "array([-1.50609814, -0.09321369, -0.84350705,  0.25204844,  1.7122825 ,\n",
       "       -0.38672597,  1.62457311,  0.9597835 ,  0.48254889, -0.38841253,\n",
       "        0.35231612,  2.33938745,  1.07934911, -0.36536959, -0.04496979,\n",
       "       -0.33388014,  0.79368067,  1.12186707,  1.8405072 ,  1.13973512,\n",
       "       -0.94927071,  1.37228401, -0.76529551,  1.31195843,  1.55063089,\n",
       "       -1.43342249,  2.30181051,  0.21980487,  1.55557135,  0.62308323,\n",
       "       -1.12256202, -0.67294412, -0.2798872 , -0.39717618,  1.66579623,\n",
       "       -0.84984086,  2.89496403,  0.49021508, -1.5792829 , -0.84134944,\n",
       "       -0.77329417,  0.67585635, -0.39346395,  0.91205475,  0.39343301,\n",
       "        1.69666365, -0.4648624 , -1.07835725,  0.19508813,  1.20643389,\n",
       "        1.48667951,  0.09814255,  1.24341624, -0.06532773, -0.85020848,\n",
       "        0.25525913, -0.94957338, -0.73642882, -1.92152773, -1.35020912,\n",
       "       -1.03050614,  1.07155892,  0.9414567 ,  0.16258256, -0.16490138,\n",
       "        0.66825501,  2.21273277,  0.71369944,  0.78558681, -0.48741666,\n",
       "        1.26726214, -0.03006829,  1.4367986 , -0.31494826, -1.6486987 ,\n",
       "       -0.56588469,  0.90589982,  0.39560501, -2.36744308, -0.72851784,\n",
       "       -0.67600247,  0.04478147,  0.01560729,  0.29399623, -0.1701889 ,\n",
       "        0.04681346,  0.54442616, -0.44541729, -3.25044484, -0.65442285,\n",
       "       -1.77171982,  0.13721032, -0.60097699, -0.70086967, -0.10366098,\n",
       "       -0.17268198, -0.68813477,  0.01580511,  0.15604186,  1.89667483])"
      ]
     },
     "execution_count": 27,
     "metadata": {},
     "output_type": "execute_result"
    }
   ],
   "source": [
    "abb = np.random.randn(100)\n",
    "abb"
   ]
  },
  {
   "cell_type": "code",
   "execution_count": 28,
   "id": "3150e526-d795-4258-a1d9-1f9d6e125cf0",
   "metadata": {},
   "outputs": [
    {
     "data": {
      "text/plain": [
       "9"
      ]
     },
     "execution_count": 28,
     "metadata": {},
     "output_type": "execute_result"
    }
   ],
   "source": [
    "(arr > 0).sum()"
   ]
  },
  {
   "cell_type": "code",
   "execution_count": 29,
   "id": "a6aca2e3-185d-4882-8d93-810594f5ea63",
   "metadata": {},
   "outputs": [],
   "source": [
    "bools = np.array([False, False, True, False])"
   ]
  },
  {
   "cell_type": "code",
   "execution_count": 30,
   "id": "7d721095-64d8-4265-bbab-4f0a73238ca4",
   "metadata": {},
   "outputs": [
    {
     "data": {
      "text/plain": [
       "True"
      ]
     },
     "execution_count": 30,
     "metadata": {},
     "output_type": "execute_result"
    }
   ],
   "source": [
    "bools.any()"
   ]
  },
  {
   "cell_type": "code",
   "execution_count": 31,
   "id": "d697d13d-8c30-4b49-bae6-f37307ec4f2d",
   "metadata": {},
   "outputs": [
    {
     "data": {
      "text/plain": [
       "False"
      ]
     },
     "execution_count": 31,
     "metadata": {},
     "output_type": "execute_result"
    }
   ],
   "source": [
    "bools.all()"
   ]
  },
  {
   "cell_type": "code",
   "execution_count": 32,
   "id": "8bf349e4-4d33-4c0b-952b-e0bee6971db7",
   "metadata": {},
   "outputs": [
    {
     "data": {
      "text/plain": [
       "array([ 1.03350143, -1.19561491,  0.54192908,  0.60597206,  0.7484913 ,\n",
       "        0.90001356])"
      ]
     },
     "execution_count": 32,
     "metadata": {},
     "output_type": "execute_result"
    }
   ],
   "source": [
    "ann = np.random.randn(6)\n",
    "ann"
   ]
  },
  {
   "cell_type": "code",
   "execution_count": 35,
   "id": "6a5104b5-8f95-47e6-855d-4d9bc4ae066f",
   "metadata": {},
   "outputs": [
    {
     "data": {
      "text/plain": [
       "array([-1.19561491,  0.54192908,  0.60597206,  0.7484913 ,  0.90001356,\n",
       "        1.03350143])"
      ]
     },
     "execution_count": 35,
     "metadata": {},
     "output_type": "execute_result"
    }
   ],
   "source": [
    "ann.sort()\n",
    "ann"
   ]
  },
  {
   "cell_type": "code",
   "execution_count": 43,
   "id": "4a3b7389-dd83-42bc-863b-a9d271d89ade",
   "metadata": {},
   "outputs": [
    {
     "data": {
      "text/plain": [
       "array([[-0.92066346, -1.11351022,  0.24042983],\n",
       "       [-0.49813067, -0.78381176, -1.08266074],\n",
       "       [-0.23855659,  0.30571786, -0.48676563],\n",
       "       [-0.62262267, -0.14491067, -0.94743096],\n",
       "       [ 1.00106344, -0.24015064,  0.51711783]])"
      ]
     },
     "execution_count": 43,
     "metadata": {},
     "output_type": "execute_result"
    }
   ],
   "source": [
    "aff = np.random.randn(5, 3)\n",
    "aff"
   ]
  },
  {
   "cell_type": "code",
   "execution_count": 46,
   "id": "daf698d6-b2e0-4140-a103-332b0b87839c",
   "metadata": {},
   "outputs": [
    {
     "data": {
      "text/plain": [
       "array([[-1.11351022, -0.92066346,  0.24042983],\n",
       "       [-1.08266074, -0.78381176, -0.49813067],\n",
       "       [-0.48676563, -0.23855659,  0.30571786],\n",
       "       [-0.94743096, -0.62262267, -0.14491067],\n",
       "       [-0.24015064,  0.51711783,  1.00106344]])"
      ]
     },
     "execution_count": 46,
     "metadata": {},
     "output_type": "execute_result"
    }
   ],
   "source": [
    "aff.sort()\n",
    "aff"
   ]
  },
  {
   "cell_type": "code",
   "execution_count": 48,
   "id": "1d0d2f3d-af82-4560-bb22-db1566276112",
   "metadata": {},
   "outputs": [],
   "source": [
    "lar = np.random.randn(1000)\n",
    "lar.sort()"
   ]
  },
  {
   "cell_type": "code",
   "execution_count": 50,
   "id": "256931af-d149-4686-949e-9dae78aaeca6",
   "metadata": {},
   "outputs": [
    {
     "data": {
      "text/plain": [
       "-1.6721293386739073"
      ]
     },
     "execution_count": 50,
     "metadata": {},
     "output_type": "execute_result"
    }
   ],
   "source": [
    "lar[int(0.05 * len(lar))]"
   ]
  },
  {
   "cell_type": "code",
   "execution_count": null,
   "id": "1969039a-0e2c-4900-bf3c-c36502a60426",
   "metadata": {},
   "outputs": [],
   "source": []
  }
 ],
 "metadata": {
  "kernelspec": {
   "display_name": "Python 3 (ipykernel)",
   "language": "python",
   "name": "python3"
  },
  "language_info": {
   "codemirror_mode": {
    "name": "ipython",
    "version": 3
   },
   "file_extension": ".py",
   "mimetype": "text/x-python",
   "name": "python",
   "nbconvert_exporter": "python",
   "pygments_lexer": "ipython3",
   "version": "3.11.5"
  }
 },
 "nbformat": 4,
 "nbformat_minor": 5
}
