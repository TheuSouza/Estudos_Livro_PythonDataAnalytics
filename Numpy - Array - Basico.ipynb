{
 "cells": [
  {
   "cell_type": "code",
   "execution_count": 2,
   "id": "a06be8f7-d8ac-46e8-a0c0-42b4667eb16a",
   "metadata": {},
   "outputs": [
    {
     "data": {
      "text/plain": [
       "array([[ 1.84496004, -0.99717015,  0.83892859],\n",
       "       [-0.46954223, -0.04687584, -0.55574529],\n",
       "       [-1.62609056, -1.67148094, -0.45034065]])"
      ]
     },
     "execution_count": 2,
     "metadata": {},
     "output_type": "execute_result"
    }
   ],
   "source": [
    "import numpy as np\n",
    "\n",
    "data = np.random.randn(3, 3)\n",
    "data"
   ]
  },
  {
   "cell_type": "code",
   "execution_count": 3,
   "id": "a93bc980-c38d-43c8-be33-61ab9ceb85ce",
   "metadata": {},
   "outputs": [
    {
     "data": {
      "text/plain": [
       "array([[ 18.44960039,  -9.97170149,   8.38928589],\n",
       "       [ -4.69542231,  -0.46875838,  -5.55745289],\n",
       "       [-16.26090558, -16.71480939,  -4.50340645]])"
      ]
     },
     "execution_count": 3,
     "metadata": {},
     "output_type": "execute_result"
    }
   ],
   "source": [
    "data * 10"
   ]
  },
  {
   "cell_type": "code",
   "execution_count": 4,
   "id": "db18d1ad-db2d-46d0-a06f-02b4d00c2750",
   "metadata": {},
   "outputs": [
    {
     "data": {
      "text/plain": [
       "array([[ 3.68992008, -1.9943403 ,  1.67785718],\n",
       "       [-0.93908446, -0.09375168, -1.11149058],\n",
       "       [-3.25218112, -3.34296188, -0.90068129]])"
      ]
     },
     "execution_count": 4,
     "metadata": {},
     "output_type": "execute_result"
    }
   ],
   "source": [
    "data + data"
   ]
  },
  {
   "cell_type": "code",
   "execution_count": 11,
   "id": "4a3b7668-592f-43c2-9b94-239cef78eb75",
   "metadata": {},
   "outputs": [
    {
     "data": {
      "text/plain": [
       "dtype('float64')"
      ]
     },
     "execution_count": 11,
     "metadata": {},
     "output_type": "execute_result"
    }
   ],
   "source": [
    "data01 = [1.6, 3, 5, 8, 5.2]\n",
    "arr01 = np.array(data01)\n",
    "arr01\n",
    "arr01.dtype"
   ]
  },
  {
   "cell_type": "code",
   "execution_count": 12,
   "id": "3ac03ef2-4069-49a9-976a-ec8d99c9e847",
   "metadata": {},
   "outputs": [
    {
     "data": {
      "text/plain": [
       "(5,)"
      ]
     },
     "execution_count": 12,
     "metadata": {},
     "output_type": "execute_result"
    }
   ],
   "source": [
    "data02 = [2, 3, 9, 4, 6]\n",
    "arr02 = np.array(data02)\n",
    "arr02\n",
    "arr02.shape"
   ]
  },
  {
   "cell_type": "code",
   "execution_count": 13,
   "id": "ea7e78a6-6b86-47af-8d73-16c20fcd6ab4",
   "metadata": {},
   "outputs": [],
   "source": [
    "datta = list()\n",
    "datta.append(arr01)"
   ]
  },
  {
   "cell_type": "code",
   "execution_count": 14,
   "id": "00ae9ff4-adfd-46b3-b6c9-a62b720bbbac",
   "metadata": {},
   "outputs": [
    {
     "data": {
      "text/plain": [
       "[array([1.6, 3. , 5. , 8. , 5.2])]"
      ]
     },
     "execution_count": 14,
     "metadata": {},
     "output_type": "execute_result"
    }
   ],
   "source": [
    "datta"
   ]
  },
  {
   "cell_type": "code",
   "execution_count": 15,
   "id": "72597b52-b101-4482-8f40-7fa7dd170680",
   "metadata": {},
   "outputs": [],
   "source": [
    "datta.append(arr02)"
   ]
  },
  {
   "cell_type": "code",
   "execution_count": 16,
   "id": "65171a93-78e3-466a-834d-0249b055a15d",
   "metadata": {},
   "outputs": [
    {
     "data": {
      "text/plain": [
       "[array([1.6, 3. , 5. , 8. , 5.2]), array([2, 3, 9, 4, 6])]"
      ]
     },
     "execution_count": 16,
     "metadata": {},
     "output_type": "execute_result"
    }
   ],
   "source": [
    "datta"
   ]
  },
  {
   "cell_type": "code",
   "execution_count": 22,
   "id": "b5f0c3ad-6758-46df-8fc0-7bcdcb3c20a4",
   "metadata": {},
   "outputs": [
    {
     "data": {
      "text/plain": [
       "1"
      ]
     },
     "execution_count": 22,
     "metadata": {},
     "output_type": "execute_result"
    }
   ],
   "source": [
    "arr02.ndim #dimensão do array"
   ]
  },
  {
   "cell_type": "code",
   "execution_count": 23,
   "id": "65921424-4b4e-46f8-b0db-34dd5b607d5e",
   "metadata": {},
   "outputs": [
    {
     "data": {
      "text/plain": [
       "array([0., 0., 0., 0., 0., 0., 0., 0., 0., 0.])"
      ]
     },
     "execution_count": 23,
     "metadata": {},
     "output_type": "execute_result"
    }
   ],
   "source": [
    "np.zeros(10)"
   ]
  },
  {
   "cell_type": "code",
   "execution_count": 25,
   "id": "47b6e396-fb6a-466d-92d8-9b223dd72b8d",
   "metadata": {},
   "outputs": [
    {
     "data": {
      "text/plain": [
       "array([[0., 0., 0., 0., 0.],\n",
       "       [0., 0., 0., 0., 0.],\n",
       "       [0., 0., 0., 0., 0.]])"
      ]
     },
     "execution_count": 25,
     "metadata": {},
     "output_type": "execute_result"
    }
   ],
   "source": [
    "np.zeros((3, 5))"
   ]
  },
  {
   "cell_type": "code",
   "execution_count": 26,
   "id": "c9dbcdb2-4c15-405c-8062-4f449bfe8dc5",
   "metadata": {},
   "outputs": [
    {
     "data": {
      "text/plain": [
       "array([[[1.01855798e-312, 1.10343781e-312],\n",
       "        [1.01855798e-312, 9.54898106e-313],\n",
       "        [1.08221785e-312, 1.06099790e-312]],\n",
       "\n",
       "       [[1.23075756e-312, 1.03977794e-312],\n",
       "        [1.12465777e-312, 9.76118064e-313],\n",
       "        [1.03977794e-312, 1.90979621e-312]]])"
      ]
     },
     "execution_count": 26,
     "metadata": {},
     "output_type": "execute_result"
    }
   ],
   "source": [
    "np.empty((2, 3, 2))"
   ]
  },
  {
   "cell_type": "code",
   "execution_count": 27,
   "id": "c6e46dc5-9acf-4775-a487-0c755f167d46",
   "metadata": {},
   "outputs": [
    {
     "data": {
      "text/plain": [
       "array([0, 1, 2, 3, 4, 5, 6, 7, 8, 9])"
      ]
     },
     "execution_count": 27,
     "metadata": {},
     "output_type": "execute_result"
    }
   ],
   "source": [
    "np.arange(10)"
   ]
  },
  {
   "cell_type": "code",
   "execution_count": null,
   "id": "b3241d4c-397f-4e15-bbdc-c87a0a883190",
   "metadata": {},
   "outputs": [],
   "source": []
  }
 ],
 "metadata": {
  "kernelspec": {
   "display_name": "Python 3 (ipykernel)",
   "language": "python",
   "name": "python3"
  },
  "language_info": {
   "codemirror_mode": {
    "name": "ipython",
    "version": 3
   },
   "file_extension": ".py",
   "mimetype": "text/x-python",
   "name": "python",
   "nbconvert_exporter": "python",
   "pygments_lexer": "ipython3",
   "version": "3.11.5"
  }
 },
 "nbformat": 4,
 "nbformat_minor": 5
}
